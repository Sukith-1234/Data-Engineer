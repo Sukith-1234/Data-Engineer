{
 "cells": [
  {
   "cell_type": "code",
   "execution_count": 6,
   "id": "dde9793c",
   "metadata": {},
   "outputs": [],
   "source": [
    "#import required libraries\n",
    "\n",
    "from selenium import webdriver\n",
    "from selenium.webdriver.chrome.service import Service\n",
    "import time"
   ]
  },
  {
   "cell_type": "code",
   "execution_count": 7,
   "id": "217de04b",
   "metadata": {},
   "outputs": [],
   "source": [
    "# downlaoded relevant chrom driver exe file and proivde the location\n",
    "\n",
    "service=Service(\"C:\\\\Users\\\\chromedriver_win32\\\\chromedriver.exe\")"
   ]
  },
  {
   "cell_type": "code",
   "execution_count": 8,
   "id": "3eeeb1d5",
   "metadata": {},
   "outputs": [],
   "source": [
    "# set options browsing easier\n",
    "def get_driver():\n",
    "    time.sleep(20)\n",
    "    options=webdriver.ChromeOptions()\n",
    "    options.add_argument(\"disable-infobars\")\n",
    "    options.add_argument(\"start-maximized\")\n",
    "    options.add_argument(\"disable-dev-shm-usage\")\n",
    "    options.add_argument(\"no-sandbox\")\n",
    "    options.add_experimental_option(\"excludeSwitches\",[\"enable-automation\"])\n",
    "    options.add_argument(\"--disable-blink-features=AutomationControlled\")\n",
    "\n",
    "    driver=webdriver.Chrome(service=service,options=options)\n",
    "    driver.get(\"https://www.cse.lk\")\n",
    "    return driver\n",
    "\n",
    "#def clean_text(text):\n",
    "    #output=text.split(\",\")\n",
    "    #return output "
   ]
  },
  {
   "cell_type": "code",
   "execution_count": 9,
   "id": "c5c9c2cc",
   "metadata": {},
   "outputs": [
    {
     "name": "stdout",
     "output_type": "stream",
     "text": [
      "('ASPI\\n8,802.23\\n199.26\\n2.32%', 'S&P SL20\\n2,677.03\\n68.88\\n2.64%', 'Market\\nMarket Closed\\nShare Volume\\n58,883,866\\nTurnover\\n1,307,392,241.00')\n"
     ]
    }
   ],
   "source": [
    "def main():\n",
    "    driver=get_driver()\n",
    "    element1=driver.find_element(by=\"xpath\",value=\"/html/body/app-root/div/app-home-page/div/div[2]/div/div/div[1]\")\n",
    "    element2=driver.find_element(by=\"xpath\",value=\"/html/body/app-root/div/app-home-page/div/div[2]/div/div/div[2]\")\n",
    "    element3=driver.find_element(by=\"xpath\",value=\"/html/body/app-root/div/app-home-page/div/div[2]/div/div/div[3]\")\n",
    "    return element1.text,element2.text,element3.text\n",
    "\n",
    "print(main())"
   ]
  },
  {
   "cell_type": "code",
   "execution_count": null,
   "id": "df7bbdfe",
   "metadata": {},
   "outputs": [],
   "source": []
  }
 ],
 "metadata": {
  "kernelspec": {
   "display_name": "Python 3 (ipykernel)",
   "language": "python",
   "name": "python3"
  },
  "language_info": {
   "codemirror_mode": {
    "name": "ipython",
    "version": 3
   },
   "file_extension": ".py",
   "mimetype": "text/x-python",
   "name": "python",
   "nbconvert_exporter": "python",
   "pygments_lexer": "ipython3",
   "version": "3.10.5"
  },
  "toc": {
   "base_numbering": 1,
   "nav_menu": {},
   "number_sections": true,
   "sideBar": true,
   "skip_h1_title": true,
   "title_cell": "Table of Contents",
   "title_sidebar": "Contents",
   "toc_cell": false,
   "toc_position": {
    "height": "calc(100% - 180px)",
    "left": "10px",
    "top": "150px",
    "width": "341.333px"
   },
   "toc_section_display": true,
   "toc_window_display": true
  }
 },
 "nbformat": 4,
 "nbformat_minor": 5
}
