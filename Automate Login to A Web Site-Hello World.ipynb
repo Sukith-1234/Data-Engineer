{
 "cells": [
  {
   "cell_type": "code",
   "execution_count": 19,
   "id": "fba98235",
   "metadata": {},
   "outputs": [],
   "source": [
    "#import required libraries\n",
    "\n",
    "from selenium import webdriver\n",
    "from selenium.webdriver.common.keys import Keys\n",
    "import time"
   ]
  },
  {
   "cell_type": "code",
   "execution_count": 20,
   "id": "182aed96",
   "metadata": {},
   "outputs": [],
   "source": [
    "# downlaoded relevant chrom driver exe file and proivde the location\n",
    "\n",
    "service=Service(\"C:\\\\Users\\\\chromedriver_win32\\\\chromedriver.exe\")"
   ]
  },
  {
   "cell_type": "code",
   "execution_count": 21,
   "id": "48d4aeb5",
   "metadata": {},
   "outputs": [],
   "source": [
    "# set options browsing easier\n",
    "def get_driver():\n",
    "    \n",
    "    options=webdriver.ChromeOptions()\n",
    "    options.add_argument(\"disable-infobars\")\n",
    "    options.add_argument(\"start-maximized\")\n",
    "    options.add_argument(\"disable-dev-shm-usage\")\n",
    "    options.add_argument(\"no-sandbox\")\n",
    "    options.add_experimental_option(\"excludeSwitches\",[\"enable-automation\"])\n",
    "    options.add_argument(\"--disable-blink-features=AutomationControlled\")\n",
    "\n",
    "    driver=webdriver.Chrome(service=service,options=options)\n",
    "    driver.get(\"https://data.world/login\")\n",
    "    return driver"
   ]
  },
  {
   "cell_type": "code",
   "execution_count": 38,
   "id": "bac1eb4c",
   "metadata": {},
   "outputs": [
    {
     "name": "stdout",
     "output_type": "stream",
     "text": [
      "https://data.world/login\n",
      "https://data.world/search?type=resources\n",
      "https://data.world/markmarkoh/coronavirus-data\n",
      "https://data.world/markmarkoh/coronavirus-data\n",
      "https://data.world/markmarkoh/coronavirus-data\n",
      "https://data.world/markmarkoh/coronavirus-data\n",
      "https://data.world/markmarkoh/coronavirus-data\n",
      "https://data.world/markmarkoh/coronavirus-data\n",
      "https://data.world/logout\n",
      "None\n"
     ]
    }
   ],
   "source": [
    "def main():\n",
    "    \n",
    "    driver=get_driver()\n",
    "    driver.find_element(by=\"id\",value=\"login-view-login-login\").send_keys(\"yourusername\")\n",
    "    time.sleep(2)\n",
    "    \n",
    "    driver.find_element(by=\"id\",value=\"login-view-login-password\").send_keys(\"yourpassword\" + Keys.RETURN)\n",
    "    print(driver.current_url)\n",
    "    time.sleep(5)\n",
    "    \n",
    "    driver.find_element(by=\"xpath\",value=\"/html/body/div/div/nav/div/ul[1]/li[1]/a/span[2]\").click()\n",
    "    print(driver.current_url)\n",
    "    time.sleep(5)\n",
    "    \n",
    "    driver.find_element(by=\"xpath\",value=\"/html/body/div/div/div[2]/div/div/div[2]/div/div[2]/div[2]/div/div/div/div[2]/div/div[2]/div[1]/a\").click()\n",
    "    print(driver.current_url)\n",
    "    time.sleep(5)\n",
    "    \n",
    "    driver.find_element(by=\"xpath\",value=\"/html/body/div[1]/div/div[2]/div/div[1]/div/div/div[2]/div/div/div/div/div[1]/div[4]/div[1]/div/div/div[1]/div/div[2]/div/div/button\").click()\n",
    "    print(driver.current_url)\n",
    "    time.sleep(5)\n",
    "    \n",
    "    driver.find_element(by=\"xpath\",value=\"/html/body/div[3]/div/ul/li/a/div[2]/div\").click()\n",
    "    print(driver.current_url)\n",
    "    time.sleep(5)\n",
    "    \n",
    "    driver.find_element(by=\"xpath\",value=\"/html/body/div[8]/div[2]/div/div/div[3]/button[1]/span\").click()\n",
    "    print(driver.current_url)\n",
    "    \n",
    "    time.sleep(10)\n",
    "    \n",
    "    driver.find_element(by=\"xpath\",value=\"/html/body/div[8]/div[2]/div/div/div[3]/button[1]/span\").click()\n",
    "    print(driver.current_url)\n",
    "    \n",
    "    # signed out from the web site \n",
    "    time.sleep(10)\n",
    "    driver.find_element(by=\"xpath\",value=\"/html/body/div[1]/div/div[1]/nav/div/div/div/div[2]/div/div/div[2]/ul/li/a/span/span[1]\").click()\n",
    "    print(driver.current_url)\n",
    "    \n",
    "    time.sleep(10)\n",
    "    driver.find_element(by=\"xpath\",value=\"/html/body/div[1]/div/div[1]/nav/div/div/div/div[2]/div/div/div[2]/ul/li/ul/li[4]/a/span[2]\").click()\n",
    "    print(driver.current_url)\n",
    "    \n",
    "\n",
    "print(main())"
   ]
  },
  {
   "cell_type": "code",
   "execution_count": null,
   "id": "644f792d",
   "metadata": {},
   "outputs": [],
   "source": []
  }
 ],
 "metadata": {
  "kernelspec": {
   "display_name": "Python 3 (ipykernel)",
   "language": "python",
   "name": "python3"
  },
  "language_info": {
   "codemirror_mode": {
    "name": "ipython",
    "version": 3
   },
   "file_extension": ".py",
   "mimetype": "text/x-python",
   "name": "python",
   "nbconvert_exporter": "python",
   "pygments_lexer": "ipython3",
   "version": "3.10.5"
  },
  "toc": {
   "base_numbering": 1,
   "nav_menu": {},
   "number_sections": true,
   "sideBar": true,
   "skip_h1_title": false,
   "title_cell": "Table of Contents",
   "title_sidebar": "Contents",
   "toc_cell": false,
   "toc_position": {},
   "toc_section_display": true,
   "toc_window_display": false
  }
 },
 "nbformat": 4,
 "nbformat_minor": 5
}
