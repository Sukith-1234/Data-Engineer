{
 "cells": [
  {
   "cell_type": "code",
   "execution_count": 20,
   "id": "9b78464f",
   "metadata": {},
   "outputs": [],
   "source": [
    "#import required libraries\n",
    "from datetime import datetime\n",
    "import requests\n",
    "import time"
   ]
  },
  {
   "cell_type": "code",
   "execution_count": 21,
   "id": "7cec9151",
   "metadata": {},
   "outputs": [
    {
     "name": "stdout",
     "output_type": "stream",
     "text": [
      "Enter stock symbol:MS\n",
      "Enter start date in yyyy/mm/dd format:2020/01/01\n",
      "Enter end date in yyyy/mm/dd format:2021/01/01\n"
     ]
    }
   ],
   "source": [
    "# input company code,date start and end date need data\n",
    "\n",
    "companycode=input('Enter stock symbol:')\n",
    "from_date=input('Enter start date in yyyy/mm/dd format:')\n",
    "to_date=from_date=input('Enter end date in yyyy/mm/dd format:')\n"
   ]
  },
  {
   "cell_type": "code",
   "execution_count": 22,
   "id": "6bb8a014",
   "metadata": {},
   "outputs": [],
   "source": [
    "# convert dates into string \n",
    "from_datetime=datetime.strptime(from_date,'%Y/%m/%d')\n",
    "to_datetime=datetime.strptime(to_date,'%Y/%m/%d')"
   ]
  },
  {
   "cell_type": "code",
   "execution_count": 25,
   "id": "90c91ec8",
   "metadata": {},
   "outputs": [],
   "source": [
    "# convert date into unix timestamp\n",
    "\n",
    "from_epoch=int(time.mktime(from_datetime.timetuple()))\n",
    "to_epoch=int(time.mktime(to_datetime.timetuple()))"
   ]
  },
  {
   "cell_type": "code",
   "execution_count": 26,
   "id": "5919ba66",
   "metadata": {},
   "outputs": [],
   "source": [
    "headers = {\"User-Agent\": \"Mozilla/5.0 (X11; Linux x86_64) AppleWebKit/537.36 (KHTML, like Gecko) Chrome/88.0.4324.96 Safari/537.36\"} \n"
   ]
  },
  {
   "cell_type": "code",
   "execution_count": 27,
   "id": "eb01f29b",
   "metadata": {},
   "outputs": [],
   "source": [
    "url=f\"https://query1.finance.yahoo.com/v7/finance/download/{companycode}?period1={from_epoch}&period2={to_epoch}&interval=1d&events=history&includeAdjustedClose=true\""
   ]
  },
  {
   "cell_type": "code",
   "execution_count": 28,
   "id": "b9d63bac",
   "metadata": {},
   "outputs": [],
   "source": [
    "#data shows as byte object\n",
    "content=requests.get(url,headers=headers).content"
   ]
  },
  {
   "cell_type": "code",
   "execution_count": 29,
   "id": "5df0720f",
   "metadata": {},
   "outputs": [],
   "source": [
    "# save file to your desktop (wher eyour pthin files stored)\n",
    "with open('data.csv','wb') as file:\n",
    "    file.write(content)"
   ]
  }
 ],
 "metadata": {
  "kernelspec": {
   "display_name": "Python 3 (ipykernel)",
   "language": "python",
   "name": "python3"
  },
  "language_info": {
   "codemirror_mode": {
    "name": "ipython",
    "version": 3
   },
   "file_extension": ".py",
   "mimetype": "text/x-python",
   "name": "python",
   "nbconvert_exporter": "python",
   "pygments_lexer": "ipython3",
   "version": "3.10.5"
  },
  "toc": {
   "base_numbering": 1,
   "nav_menu": {},
   "number_sections": true,
   "sideBar": true,
   "skip_h1_title": false,
   "title_cell": "Table of Contents",
   "title_sidebar": "Contents",
   "toc_cell": false,
   "toc_position": {},
   "toc_section_display": true,
   "toc_window_display": false
  }
 },
 "nbformat": 4,
 "nbformat_minor": 5
}
