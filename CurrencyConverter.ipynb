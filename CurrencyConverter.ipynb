{
 "cells": [
  {
   "cell_type": "code",
   "execution_count": 3,
   "id": "613d3c9a",
   "metadata": {},
   "outputs": [],
   "source": [
    "from bs4 import BeautifulSoup\n",
    "import requests"
   ]
  },
  {
   "cell_type": "code",
   "execution_count": 17,
   "id": "86092013",
   "metadata": {},
   "outputs": [
    {
     "name": "stdout",
     "output_type": "stream",
     "text": [
      "0.0\n"
     ]
    }
   ],
   "source": [
    "def get_currency(in_currency,out_currency):\n",
    "    url=f\"https://www.x-rates.com/calculator/?from={in_currency}&to={out_currency}&amount=1\"\n",
    "    content=requests.get(url).text\n",
    "    \n",
    "    soup=BeautifulSoup(content,'html.parser')\n",
    "    rate=soup.find('span',class_=\"ccOutputRslt\").get_text()\n",
    "    rate=float(rate[0:-4])\n",
    "    \n",
    "    return rate\n",
    "    \n",
    "    \n",
    "# put currency code you need below\n",
    "currency_rate=get_currency('USD','SLR')\n",
    "print(currency_rate)"
   ]
  },
  {
   "cell_type": "code",
   "execution_count": null,
   "id": "c7d07829",
   "metadata": {},
   "outputs": [],
   "source": []
  }
 ],
 "metadata": {
  "kernelspec": {
   "display_name": "Python 3 (ipykernel)",
   "language": "python",
   "name": "python3"
  },
  "language_info": {
   "codemirror_mode": {
    "name": "ipython",
    "version": 3
   },
   "file_extension": ".py",
   "mimetype": "text/x-python",
   "name": "python",
   "nbconvert_exporter": "python",
   "pygments_lexer": "ipython3",
   "version": "3.10.5"
  },
  "toc": {
   "base_numbering": 1,
   "nav_menu": {},
   "number_sections": true,
   "sideBar": true,
   "skip_h1_title": false,
   "title_cell": "Table of Contents",
   "title_sidebar": "Contents",
   "toc_cell": false,
   "toc_position": {},
   "toc_section_display": true,
   "toc_window_display": false
  }
 },
 "nbformat": 4,
 "nbformat_minor": 5
}
