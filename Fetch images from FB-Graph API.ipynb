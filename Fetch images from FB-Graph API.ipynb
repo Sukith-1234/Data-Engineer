{
 "cells": [
  {
   "cell_type": "code",
   "execution_count": 14,
   "id": "6d64d738",
   "metadata": {},
   "outputs": [],
   "source": [
    "import requests\n",
    "import json"
   ]
  },
  {
   "cell_type": "code",
   "execution_count": 15,
   "id": "ab9631ba",
   "metadata": {},
   "outputs": [],
   "source": [
    "# get curl from facebook developer\n",
    "url=\" get the graph API for relevant facebook image \""
   ]
  },
  {
   "cell_type": "code",
   "execution_count": 16,
   "id": "74ff62eb",
   "metadata": {},
   "outputs": [],
   "source": [
    "responses=requests.get(url)"
   ]
  },
  {
   "cell_type": "code",
   "execution_count": 19,
   "id": "80bbdf54",
   "metadata": {},
   "outputs": [],
   "source": [
    "data=responses.text"
   ]
  },
  {
   "cell_type": "code",
   "execution_count": 23,
   "id": "4a33b881",
   "metadata": {},
   "outputs": [
    {
     "data": {
      "text/plain": [
       "dict"
      ]
     },
     "execution_count": 23,
     "metadata": {},
     "output_type": "execute_result"
    }
   ],
   "source": [
    "data=json.loads(data)\n"
   ]
  },
  {
   "cell_type": "code",
   "execution_count": 27,
   "id": "a76f24ae",
   "metadata": {},
   "outputs": [],
   "source": [
    "image_url=data['images'][0]['source']"
   ]
  },
  {
   "cell_type": "code",
   "execution_count": 30,
   "id": "c1851999",
   "metadata": {},
   "outputs": [],
   "source": [
    "image_bytes=requests.get(image_url).content"
   ]
  },
  {
   "cell_type": "code",
   "execution_count": 31,
   "id": "25057ba7",
   "metadata": {},
   "outputs": [],
   "source": [
    "with open('image.jpg','wb') as file:\n",
    "    file.write(image_bytes)"
   ]
  },
  {
   "cell_type": "code",
   "execution_count": null,
   "id": "2dd1bd95",
   "metadata": {},
   "outputs": [],
   "source": []
  }
 ],
 "metadata": {
  "kernelspec": {
   "display_name": "Python 3 (ipykernel)",
   "language": "python",
   "name": "python3"
  },
  "language_info": {
   "codemirror_mode": {
    "name": "ipython",
    "version": 3
   },
   "file_extension": ".py",
   "mimetype": "text/x-python",
   "name": "python",
   "nbconvert_exporter": "python",
   "pygments_lexer": "ipython3",
   "version": "3.10.5"
  },
  "toc": {
   "base_numbering": 1,
   "nav_menu": {},
   "number_sections": true,
   "sideBar": true,
   "skip_h1_title": false,
   "title_cell": "Table of Contents",
   "title_sidebar": "Contents",
   "toc_cell": false,
   "toc_position": {},
   "toc_section_display": true,
   "toc_window_display": false
  }
 },
 "nbformat": 4,
 "nbformat_minor": 5
}
