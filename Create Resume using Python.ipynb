{
 "cells": [
  {
   "cell_type": "code",
   "execution_count": 837,
   "id": "8783409a",
   "metadata": {},
   "outputs": [],
   "source": [
    "from fpdf import FPDF"
   ]
  },
  {
   "cell_type": "code",
   "execution_count": 838,
   "id": "10c498b8",
   "metadata": {},
   "outputs": [],
   "source": [
    "from PIL import Image\n",
    "\n",
    "#read the image and rotate the image for your requirment\n",
    "im = Image.open(\"C:\\\\Downloads\\\\myphoto.jpg\")\n",
    "angle = 270\n",
    "out = im.rotate(angle, expand=True)\n",
    "out.save(\"C:\\\\Users\\\\sukit_jjm\\\\Downloads\\\\rotatemyphoto.jpg\")"
   ]
  },
  {
   "cell_type": "code",
   "execution_count": 839,
   "id": "4e979ee2",
   "metadata": {},
   "outputs": [],
   "source": [
    "pdf=FPDF(orientation='P',unit='pt',format='A4')\n",
    "pdf.add_page()\n"
   ]
  },
  {
   "cell_type": "code",
   "execution_count": 840,
   "id": "2f48a41c",
   "metadata": {},
   "outputs": [],
   "source": [
    "#adding image\n",
    "\n",
    "pdf.image(\"C:\\\\Users\\\\Downloads\\\\rotatemyphoto.jpg\",w=80, h=100)\n"
   ]
  },
  {
   "cell_type": "code",
   "execution_count": 841,
   "id": "8dc0a878",
   "metadata": {},
   "outputs": [],
   "source": [
    "# adding header\n",
    "pdf.set_font(family='Times',style='B',size=24)\n",
    "pdf.cell(w=0,h=30,txt='Name',ln=2)\n"
   ]
  },
  {
   "cell_type": "code",
   "execution_count": 842,
   "id": "2f538116",
   "metadata": {},
   "outputs": [],
   "source": [
    "pdf.set_font(family='Times',size=12)"
   ]
  },
  {
   "cell_type": "code",
   "execution_count": 843,
   "id": "c74fe289",
   "metadata": {},
   "outputs": [],
   "source": [
    "# basic informations\n",
    "\n",
    "txt2=\"\"\"phone: 0**-*******\n",
    "email: sexample@gmail.com\n",
    "LinkedIn: www.linkedin.com/in/name\n",
    "Address: No */* ,********, *****, *****\n",
    "Date of Birth 1***-**-**\"\"\""
   ]
  },
  {
   "cell_type": "code",
   "execution_count": 844,
   "id": "41fd269b",
   "metadata": {},
   "outputs": [
    {
     "data": {
      "text/plain": [
       "[]"
      ]
     },
     "execution_count": 844,
     "metadata": {},
     "output_type": "execute_result"
    }
   ],
   "source": [
    "pdf.multi_cell(w=0,h=30,txt=txt2)"
   ]
  },
  {
   "cell_type": "code",
   "execution_count": 845,
   "id": "4a5d9fd7",
   "metadata": {},
   "outputs": [],
   "source": [
    "pdf.set_font(family='Times',style='B',size=14)\n",
    "pdf.cell(w=100,h=30,txt='OBJECTIVES',ln=1)"
   ]
  },
  {
   "cell_type": "code",
   "execution_count": 846,
   "id": "dc8e3a28",
   "metadata": {},
   "outputs": [],
   "source": [
    "pdf.set_font(family='Times',size=12)"
   ]
  },
  {
   "cell_type": "code",
   "execution_count": 847,
   "id": "cf914a32",
   "metadata": {},
   "outputs": [],
   "source": [
    "# objective\n",
    "\n",
    "txt3=\"\"\"\n",
    "For me, it is all about the big picture. Because of this, I \n",
    "have developed a passion for using data and common \n",
    "sense to generate simple, implementable solutions to \n",
    "complex problems. Recently, I have been fascinated by \n",
    "the increasingly quantitative nature of decision making; I \n",
    "have made it my mission to stay up to date with the \n",
    "newest technologies and analytic techniques. Forthe past \n",
    "years, I have been analysing business and social\n",
    "problems. I have worked with major apparel \n",
    "organizations and have amassed an arsenal of analytic \"\"\""
   ]
  },
  {
   "cell_type": "code",
   "execution_count": 848,
   "id": "a251174a",
   "metadata": {},
   "outputs": [
    {
     "data": {
      "text/plain": [
       "[]"
      ]
     },
     "execution_count": 848,
     "metadata": {},
     "output_type": "execute_result"
    }
   ],
   "source": [
    "pdf.multi_cell(w=0,h=15,txt=txt3,align='J')"
   ]
  },
  {
   "cell_type": "code",
   "execution_count": 849,
   "id": "286f4e76",
   "metadata": {},
   "outputs": [],
   "source": [
    "pdf.set_font(family='Times',style='B',size=12)\n",
    "pdf.cell(w=100,h=30,txt='SKILLS',ln=1)"
   ]
  },
  {
   "cell_type": "code",
   "execution_count": 850,
   "id": "dd4ca68f",
   "metadata": {},
   "outputs": [],
   "source": [
    "pdf.set_font(family='Times',size=12)"
   ]
  },
  {
   "cell_type": "code",
   "execution_count": 851,
   "id": "ae6458ad",
   "metadata": {},
   "outputs": [],
   "source": [
    "# your skills\n",
    "txt4=\"\"\"\n",
    "Azure/GCP \n",
    "R /Python \n",
    "Power BI \n",
    "Tableau \n",
    "Power Apps \n",
    "Orange  \n",
    "Office 365 \n",
    "Virtual Agent  \n",
    "Apache Nifi \n",
    "ERP Systems \n",
    "SPSS \n",
    "Excel \n",
    "MS SQL  \n",
    "SSAS \"\"\""
   ]
  },
  {
   "cell_type": "code",
   "execution_count": 852,
   "id": "d7303983",
   "metadata": {},
   "outputs": [
    {
     "data": {
      "text/plain": [
       "[]"
      ]
     },
     "execution_count": 852,
     "metadata": {},
     "output_type": "execute_result"
    }
   ],
   "source": [
    "pdf.multi_cell(w=0,h=15,txt=txt4)"
   ]
  },
  {
   "cell_type": "code",
   "execution_count": 853,
   "id": "9942c7f1",
   "metadata": {},
   "outputs": [],
   "source": [
    "pdf.set_font(family='Times',style='B',size=14)\n",
    "pdf.cell(w=100,h=30,txt='CERTIFICATION',ln=1)"
   ]
  },
  {
   "cell_type": "code",
   "execution_count": 854,
   "id": "dbb9e553",
   "metadata": {},
   "outputs": [],
   "source": [
    "pdf.set_font(family='Times',size=12)"
   ]
  },
  {
   "cell_type": "code",
   "execution_count": 855,
   "id": "70063d66",
   "metadata": {},
   "outputs": [],
   "source": [
    "## your certificate details\n",
    "\n",
    "txt5=\"\"\"\n",
    "Microsoft Certified Trainer (2022-2023)\n",
    "Microsoft Certified Data Analyst (2022-2023)\n",
    "Microsoft AI Fundamentals\n",
    "Microsoft Data Fundamentals\n",
    "Microsoft Azure Fundamentals\n",
    "Microsoft Power Platform Fundamentals\n",
    "Python Programmer Track - DataCamp \n",
    "Data Analyst with Python Track - DataCamp\n",
    "Data Scientist with Python Track - DataCamp\n",
    "IBM Data science Professional Certificate (Level 3)\n",
    "Google IT Support Professional Certificate (Level 3)\n",
    "Fundamentals of Visualization with Tableau-Coursera \n",
    "(University of California, Davis)\n",
    "Supply Chain Management -Coursera (Korea \n",
    "Advance Institute of Science & Technology)\n",
    "International Business  -Coursera (University of \n",
    "New Mexico)\n",
    "Participated the course Multinational Companies and \n",
    "Investment in Vietnam conducted by VNU University of \n",
    "Economics and Business Vietnam, Hanoi.\"\"\""
   ]
  },
  {
   "cell_type": "code",
   "execution_count": 856,
   "id": "5acd3b4d",
   "metadata": {},
   "outputs": [
    {
     "data": {
      "text/plain": [
       "[]"
      ]
     },
     "execution_count": 856,
     "metadata": {},
     "output_type": "execute_result"
    }
   ],
   "source": [
    "pdf.multi_cell(w=0,h=15,txt=txt5)"
   ]
  },
  {
   "cell_type": "code",
   "execution_count": 857,
   "id": "5d636cac",
   "metadata": {},
   "outputs": [],
   "source": [
    "pdf.set_font(family='Times',style='B',size=14)\n",
    "pdf.cell(w=100,h=30,txt='EDUCATION',ln=1)"
   ]
  },
  {
   "cell_type": "code",
   "execution_count": 858,
   "id": "f2d1d101",
   "metadata": {},
   "outputs": [],
   "source": [
    "pdf.set_font(family='Times',size=12)"
   ]
  },
  {
   "cell_type": "code",
   "execution_count": 859,
   "id": "99b060f7",
   "metadata": {},
   "outputs": [],
   "source": [
    "# your education qualification\n",
    "txt6=\"\"\"\n",
    "Master of Science Data Science and AI ,Reading  2021-2023\n",
    "University of Peradeniya PGIS, Sri Lanka\n",
    "SubjectComputer Vision, Machine Learning, Regression Analysis, Business\n",
    "Intelligence, NLP, Distributed Systems, Programming for Data Science\n",
    "\n",
    "Master of Science Business Analytics, Reading Research  2020-2022\n",
    "Robert Gordon University, Scotland\n",
    "Subjects Web Analytics, Business Intelligence, Data Science, Big Data, Data \n",
    "Warehousing, Business Modelling\n",
    "\n",
    "Bachelor of Science /Physical Science  2013-2016/GPA-2.6\n",
    "University of Kelaniya, Sri Lanka\n",
    "Subject Computer Science, Pure Mathematics, Applied Mathematics, \n",
    "Physics, Electronics\n",
    "\n",
    "Master of Business Administration 2017-2019/ GPA- 3.51\n",
    "University of Kelaniya, Sri Lanka\n",
    "Subject Finance, Marketing, Human Resource, New Product Development \n",
    "and Innovation, Supply chain management, Project Management.\n",
    "\n",
    "\"\"\""
   ]
  },
  {
   "cell_type": "code",
   "execution_count": 860,
   "id": "f0897641",
   "metadata": {},
   "outputs": [
    {
     "data": {
      "text/plain": [
       "[]"
      ]
     },
     "execution_count": 860,
     "metadata": {},
     "output_type": "execute_result"
    }
   ],
   "source": [
    "pdf.multi_cell(w=0,h=15,txt=txt6)"
   ]
  },
  {
   "cell_type": "code",
   "execution_count": 861,
   "id": "1d01c08e",
   "metadata": {},
   "outputs": [],
   "source": [
    "pdf.set_font(family='Times',style='B',size=14)\n",
    "pdf.cell(w=100,h=30,txt='PROJECTS',ln=1)"
   ]
  },
  {
   "cell_type": "code",
   "execution_count": 862,
   "id": "44fc56fd",
   "metadata": {},
   "outputs": [],
   "source": [
    "pdf.set_font(family='Times',size=12)"
   ]
  },
  {
   "cell_type": "code",
   "execution_count": 863,
   "id": "0a8158b2",
   "metadata": {},
   "outputs": [],
   "source": [
    "# your porject details\n",
    "\n",
    "txt7=\"\"\"\n",
    "Build and deployed comprehensive COVID -19 dashboard to track \n",
    "and analyse the COVID 19 cases around the World and Sri Lanka\n",
    "Developed Sales/Purchasing Dashboard/Apps for MAS organisation,\n",
    "developed shipments tracking dashboard by Integrating and \n",
    "automate shipping data\n",
    "Build and deployed more than 20 data analytics social projects in \n",
    "Tableau public web site\n",
    "Developed Recommendation (Bonding Material) App using Power \n",
    "Apps, SharePoint and Power BI \"\"\""
   ]
  },
  {
   "cell_type": "code",
   "execution_count": 864,
   "id": "72315465",
   "metadata": {},
   "outputs": [
    {
     "data": {
      "text/plain": [
       "[]"
      ]
     },
     "execution_count": 864,
     "metadata": {},
     "output_type": "execute_result"
    }
   ],
   "source": [
    "pdf.multi_cell(w=0,h=15,txt=txt7)"
   ]
  },
  {
   "cell_type": "code",
   "execution_count": 865,
   "id": "f4705c28",
   "metadata": {},
   "outputs": [
    {
     "data": {
      "text/plain": [
       "''"
      ]
     },
     "execution_count": 865,
     "metadata": {},
     "output_type": "execute_result"
    }
   ],
   "source": [
    "# create the output PDF-CV\n",
    "pdf.output('C:\\\\Users\\\\sukit_jjm\\\\Downloads\\\\mycv.pdf')"
   ]
  }
 ],
 "metadata": {
  "kernelspec": {
   "display_name": "Python 3 (ipykernel)",
   "language": "python",
   "name": "python3"
  },
  "language_info": {
   "codemirror_mode": {
    "name": "ipython",
    "version": 3
   },
   "file_extension": ".py",
   "mimetype": "text/x-python",
   "name": "python",
   "nbconvert_exporter": "python",
   "pygments_lexer": "ipython3",
   "version": "3.10.5"
  },
  "toc": {
   "base_numbering": 1,
   "nav_menu": {},
   "number_sections": true,
   "sideBar": true,
   "skip_h1_title": false,
   "title_cell": "Table of Contents",
   "title_sidebar": "Contents",
   "toc_cell": false,
   "toc_position": {},
   "toc_section_display": true,
   "toc_window_display": false
  }
 },
 "nbformat": 4,
 "nbformat_minor": 5
}
